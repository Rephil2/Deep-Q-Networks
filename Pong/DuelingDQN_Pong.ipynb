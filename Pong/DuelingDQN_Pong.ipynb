{
 "cells": [
  {
   "cell_type": "markdown",
   "metadata": {
    "colab_type": "text",
    "id": "_Toz_zbLqRDX"
   },
   "source": [
    "### Part 1: Import recource & Hyperparameter"
   ]
  },
  {
   "cell_type": "code",
   "execution_count": 1,
   "metadata": {
    "colab": {},
    "colab_type": "code",
    "id": "axQA3l0FqXyi"
   },
   "outputs": [],
   "source": [
    "# Comman library\n",
    "import math\n",
    "import random\n",
    "import numpy as np\n",
    "import gym\n",
    "from gym import spaces\n",
    "import cv2\n",
    "from collections import deque\n",
    "import datetime"
   ]
  },
  {
   "cell_type": "code",
   "execution_count": 2,
   "metadata": {
    "colab": {},
    "colab_type": "code",
    "id": "yhWWv9_LSc1z"
   },
   "outputs": [],
   "source": [
    "# Pytorch\n",
    "import torch\n",
    "import torch.nn as nn\n",
    "import torch.optim as optim\n",
    "import torch.autograd as autograd \n",
    "import torch.nn.functional as F"
   ]
  },
  {
   "cell_type": "code",
   "execution_count": 6,
   "metadata": {
    "colab": {},
    "colab_type": "code",
    "id": "eNqwYLT2Sc18"
   },
   "outputs": [],
   "source": [
    "# Tool for image preprocessing\n",
    "from IPython.display import clear_output\n",
    "import matplotlib.pyplot as plt\n",
    "%matplotlib inline"
   ]
  },
  {
   "cell_type": "code",
   "execution_count": 4,
   "metadata": {
    "colab": {
     "base_uri": "https://localhost:8080/",
     "height": 34
    },
    "colab_type": "code",
    "id": "NSEwJNW_q1Kw",
    "outputId": "d084422a-f63b-4746-ad8c-b302c7a867d5"
   },
   "outputs": [
    {
     "name": "stdout",
     "output_type": "stream",
     "text": [
      "cuda\n"
     ]
    }
   ],
   "source": [
    "# Device and variable for parameter transferring\n",
    "device = torch.device('cuda' if torch.cuda.is_available() else 'cpu')\n",
    "print(device)\n",
    "Variable = lambda *args, **kwargs: autograd.Variable(*args, **kwargs).cuda() if torch.cuda.is_available() else autograd.Variable(*args, **kwargs)"
   ]
  },
  {
   "cell_type": "code",
   "execution_count": 5,
   "metadata": {
    "colab": {},
    "colab_type": "code",
    "id": "EWYckNBgrInU"
   },
   "outputs": [],
   "source": [
    "# Hyper-parameter\n",
    "BATCH_SIZE = 32         # Minibatch size \n",
    "GAMMA = 0.99            # Discount factor \n",
    "LR = 1e-4               # Learning rate\n",
    "UPDATE_TARGET = 1000    # How often to update the target-network\n",
    "NUM_FRAME = 1000000 "
   ]
  },
  {
   "cell_type": "code",
   "execution_count": 3,
   "metadata": {
    "colab": {},
    "colab_type": "code",
    "id": "7EKnH0FErO50"
   },
   "outputs": [],
   "source": [
    "# Memory-parameter\n",
    "BUFFER_SIZE = int(1e5)  # Replay buffer size \n",
    "REPLAY_INITIAL = 10000  # Random sampling period"
   ]
  },
  {
   "cell_type": "code",
   "execution_count": 4,
   "metadata": {
    "colab": {},
    "colab_type": "code",
    "id": "ThmMfqYrrgUz"
   },
   "outputs": [],
   "source": [
    "# Epsilon\n",
    "EPS_START = 1.0\n",
    "EPS_END = 0.01\n",
    "EPS_DECAY = 30000\n",
    "\n",
    "EPS_BY_FRAME = lambda frame_idx : EPS_END + (EPS_START - EPS_END) * math.exp(-1. * frame_idx / EPS_DECAY)"
   ]
  },
  {
   "cell_type": "code",
   "execution_count": 7,
   "metadata": {
    "colab": {
     "base_uri": "https://localhost:8080/",
     "height": 282
    },
    "colab_type": "code",
    "id": "8egxyD7eseAi",
    "outputId": "be6a5c31-7738-4c50-9075-f39b62f4ea45"
   },
   "outputs": [
    {
     "data": {
      "text/plain": [
       "[<matplotlib.lines.Line2D at 0x128e81128>]"
      ]
     },
     "execution_count": 7,
     "metadata": {},
     "output_type": "execute_result"
    },
    {
     "data": {
      "image/png": "[encoded data removed]",
      "text/plain": [
       "<Figure size 432x288 with 1 Axes>"
      ]
     },
     "metadata": {},
     "output_type": "display_data"
    }
   ],
   "source": [
    "# Plot changing epsilon\n",
    "plt.plot([EPS_BY_FRAME(i) for i in range(1000000-REPLAY_INITIAL)])"
   ]
  },
  {
   "cell_type": "code",
   "execution_count": 9,
   "metadata": {},
   "outputs": [],
   "source": [
    "# Tensor board\n",
    "from torch.utils.tensorboard import SummaryWriter\n",
    "writer = SummaryWriter('runs/dueling_pong')"
   ]
  },
  {
   "cell_type": "markdown",
   "metadata": {},
   "source": [
    "---\n",
    "### Part 2: Save & Load model"
   ]
  },
  {
   "cell_type": "code",
   "execution_count": 10,
   "metadata": {},
   "outputs": [],
   "source": [
    "class SaveLoad():\n",
    "    \n",
    "    def __init__(self):\n",
    "        self.directory = \"./saved_model/\"\n",
    "        self.PATH = self.directory + \"model_dueling.pt\"\n",
    "        \n",
    "    def save_models(self, qnetwork_local, qnetwork_target, optimizer, losses):\n",
    "        torch.save({\n",
    "        'model_local_state_dict': qnetwork_local.state_dict(),\n",
    "        'model_target_state_dict': qnetwork_target.state_dict(),\n",
    "        'optimizer_local_state_dict': optimizer.state_dict(),\n",
    "        'losses': losses,\n",
    "        }, self.PATH)\n",
    "        print('NN Models have been saved to: ', self.PATH)\n",
    "        return \n",
    "\n",
    "    def load_models(self, qnetwork_local, qnetwork_target, optimizer): \n",
    "        losses = []\n",
    "        try:\n",
    "            f = open(self.PATH)\n",
    "            f.close()\n",
    "        except IOError:\n",
    "            print('Could not find file in dir.')\n",
    "            return\n",
    "        print('Loading NN\\'s from:', self.PATH)\n",
    "        checkpoint = torch.load(self.PATH)\n",
    "        qnetwork_local.load_state_dict(checkpoint['model_local_state_dict'])\n",
    "        qnetwork_target.load_state_dict(checkpoint['model_target_state_dict'])\n",
    "        optimizer.load_state_dict(checkpoint['optimizer_local_state_dict'])\n",
    "        losses = checkpoint['losses']\n",
    "        return [qnetwork_local, qnetwork_target, optimizer, losses]\n",
    "save_load = SaveLoad()"
   ]
  },
  {
   "cell_type": "markdown",
   "metadata": {
    "colab_type": "text",
    "id": "vSLvJvv5sxUS"
   },
   "source": [
    "---\n",
    "### Part 3: Image preprocessing & DuelingCNN"
   ]
  },
  {
   "cell_type": "code",
   "execution_count": 11,
   "metadata": {
    "colab": {},
    "colab_type": "code",
    "id": "fV1tQaktY5we"
   },
   "outputs": [],
   "source": [
    "class NoopResetEnv(gym.Wrapper):\n",
    "    def __init__(self, env, noop_max=30):\n",
    "        \"\"\"Sample initial states by taking random number of no-ops on reset.\n",
    "        No-op is assumed to be action 0.\n",
    "        \"\"\"\n",
    "        gym.Wrapper.__init__(self, env)\n",
    "        self.noop_max = noop_max\n",
    "        self.override_num_noops = None\n",
    "        self.noop_action = 0\n",
    "        assert env.unwrapped.get_action_meanings()[0] == 'NOOP'\n",
    "\n",
    "    def reset(self, **kwargs):\n",
    "        \"\"\" Do no-op action for a number of steps in [1, noop_max].\"\"\"\n",
    "        self.env.reset(**kwargs)\n",
    "        if self.override_num_noops is not None:\n",
    "            noops = self.override_num_noops\n",
    "        else:\n",
    "            noops = self.unwrapped.np_random.randint(1, self.noop_max + 1) #pylint: disable=E1101\n",
    "        assert noops > 0\n",
    "        obs = None\n",
    "        for _ in range(noops):\n",
    "            obs, _, done, _ = self.env.step(self.noop_action)\n",
    "            if done:\n",
    "                obs = self.env.reset(**kwargs)\n",
    "        return obs\n",
    "\n",
    "    def step(self, ac):\n",
    "        return self.env.step(ac)\n",
    "\n",
    "\n",
    "class MaxAndSkipEnv(gym.Wrapper):\n",
    "    def __init__(self, env, skip=4):\n",
    "        \"\"\"Return only every `skip`-th frame\"\"\"\n",
    "        gym.Wrapper.__init__(self, env)\n",
    "        # most recent raw observations (for max pooling across time steps)\n",
    "        self._obs_buffer = np.zeros((2,)+env.observation_space.shape, dtype=np.uint8)\n",
    "        self._skip       = skip\n",
    "\n",
    "    def reset(self):\n",
    "        return self.env.reset()\n",
    "\n",
    "    def step(self, action):\n",
    "        \"\"\"Repeat action, sum reward, and max over last observations.\"\"\"\n",
    "        total_reward = 0.0\n",
    "        done = None\n",
    "        for i in range(self._skip):\n",
    "            obs, reward, done, info = self.env.step(action)\n",
    "            if i == self._skip - 2: self._obs_buffer[0] = obs\n",
    "            if i == self._skip - 1: self._obs_buffer[1] = obs\n",
    "            total_reward += reward\n",
    "            if done:\n",
    "                break\n",
    "        # Note that the observation on the done=True frame doesn't matter\n",
    "        max_frame = self._obs_buffer.max(axis=0)\n",
    "\n",
    "        return max_frame, total_reward, done, info\n",
    "\n",
    "    def reset(self, **kwargs):\n",
    "        return self.env.reset(**kwargs)\n",
    "\n",
    "class WarpFrame(gym.ObservationWrapper):\n",
    "    def __init__(self, env):\n",
    "        \"\"\"Warp frames to 84x84 as done in the Nature paper and later work.\"\"\"\n",
    "        gym.ObservationWrapper.__init__(self, env)\n",
    "        self.width = 84\n",
    "        self.height = 84\n",
    "        self.observation_space = spaces.Box(low=0, high=255,\n",
    "            shape=(self.height, self.width, 1), dtype=np.uint8)\n",
    "\n",
    "    def observation(self, frame):\n",
    "        frame = cv2.cvtColor(frame, cv2.COLOR_RGB2GRAY)\n",
    "        frame = cv2.resize(frame, (self.width, self.height), interpolation=cv2.INTER_AREA)\n",
    "        return frame[:, :, None]\n",
    "\n",
    "class ImageToPyTorch(gym.ObservationWrapper):\n",
    "    \"\"\"\n",
    "    Image shape to num_channels x weight x height\n",
    "    \"\"\"\n",
    "    def __init__(self, env):\n",
    "        super(ImageToPyTorch, self).__init__(env)\n",
    "        old_shape = self.observation_space.shape\n",
    "        print(np.shape(old_shape))\n",
    "        self.observation_space = gym.spaces.Box(low=0.0, high=1.0, shape=(old_shape[-1], old_shape[0], old_shape[1]), dtype=np.uint8)\n",
    "\n",
    "    def observation(self, observation):\n",
    "        return np.swapaxes(observation, 2, 0)\n"
   ]
  },
  {
   "cell_type": "code",
   "execution_count": 12,
   "metadata": {
    "colab": {},
    "colab_type": "code",
    "id": "7AFkCx2lZBLZ"
   },
   "outputs": [],
   "source": [
    "def make_atari(env_id):\n",
    "    env = gym.make(env_id)\n",
    "    env = NoopResetEnv(env, noop_max=30)\n",
    "    env = MaxAndSkipEnv(env, skip=4)\n",
    "    return env\n",
    "\n",
    "def wrap_pytorch(env):\n",
    "    return ImageToPyTorch(env)"
   ]
  },
  {
   "cell_type": "code",
   "execution_count": 13,
   "metadata": {
    "colab": {
     "base_uri": "https://localhost:8080/",
     "height": 34
    },
    "colab_type": "code",
    "id": "aTfL00-UZF6o",
    "outputId": "daf9557e-846f-4fbd-c3d1-48729202e9f9"
   },
   "outputs": [
    {
     "name": "stdout",
     "output_type": "stream",
     "text": [
      "(3,)\n"
     ]
    }
   ],
   "source": [
    "env_id = \"PongDeterministic-v4\"\n",
    "env    = make_atari(env_id)\n",
    "env    = WarpFrame(env)\n",
    "env    = wrap_pytorch(env)"
   ]
  },
  {
   "cell_type": "code",
   "execution_count": 14,
   "metadata": {
    "colab": {},
    "colab_type": "code",
    "id": "PZSNzN5iu0Uj"
   },
   "outputs": [],
   "source": [
    "# Environment-parameter\n",
    "input_shape = env.observation_space.shape\n",
    "num_action  = env.action_space.n"
   ]
  },
  {
   "cell_type": "code",
   "execution_count": 15,
   "metadata": {
    "colab": {},
    "colab_type": "code",
    "id": "rFluxOU80fms"
   },
   "outputs": [],
   "source": [
    "class DuelingCNN(nn.Module):\n",
    "    def __init__(self, input_shape, num_action):\n",
    "        super(DuelingCNN, self).__init__()\n",
    "        \n",
    "        self.input_shape = input_shape\n",
    "        self.num_action = num_action\n",
    "        \n",
    "        self.features = nn.Sequential(\n",
    "            nn.Conv2d(self.input_shape[0], 32, kernel_size=8, stride=4),\n",
    "            nn.ReLU(),\n",
    "            nn.Conv2d(32, 64, kernel_size=4, stride=2),\n",
    "            nn.ReLU(),\n",
    "            nn.Conv2d(64, 64, kernel_size=3, stride=1),\n",
    "            nn.ReLU()\n",
    "        )\n",
    "        \n",
    "        self.advantage = nn.Sequential(\n",
    "            nn.Linear(self.feature_size(), 512),\n",
    "            nn.ReLU(),\n",
    "            nn.Linear(512, self.num_action)\n",
    "        )\n",
    "        \n",
    "        self.value = nn.Sequential(\n",
    "            nn.Linear(self.feature_size(), 512),\n",
    "            nn.ReLU(),\n",
    "            nn.Linear(512, 1)\n",
    "        )\n",
    "        \n",
    "    def forward(self, x):\n",
    "        x = self.features(x)\n",
    "        x = x.view(x.size(0), -1)\n",
    "        advantage = self.advantage(x)\n",
    "        value     = self.value(x)\n",
    "        return value + advantage  - advantage.mean()\n",
    "    \n",
    "    def feature_size(self):\n",
    "        return self.features(autograd.Variable(torch.zeros(1, *self.input_shape))).view(1, -1).size(1)"
   ]
  },
  {
   "cell_type": "code",
   "execution_count": 16,
   "metadata": {},
   "outputs": [],
   "source": [
    "# Generate Q-network\n",
    "if torch.cuda.is_available():\n",
    "    qnetwork_local = DuelingCNN(input_shape, num_action).cuda()\n",
    "    qnetwork_target  = DuelingCNN(input_shape, num_action).cuda()\n",
    "else:\n",
    "    qnetwork_local = DuelingCNN(input_shape, num_action)\n",
    "    qnetwork_target = DuelingCNN(input_shape, num_action)\n",
    "optimizer = optim.Adam(qnetwork_local.parameters(), lr=LR)"
   ]
  },
  {
   "cell_type": "markdown",
   "metadata": {
    "colab_type": "text",
    "id": "n0iB9-c0Sc2D"
   },
   "source": [
    "---\n",
    "### Part 4: Replay memory"
   ]
  },
  {
   "cell_type": "code",
   "execution_count": 17,
   "metadata": {
    "colab": {},
    "colab_type": "code",
    "id": "LZAC2Q2ASc2E"
   },
   "outputs": [],
   "source": [
    "class Memory(object):\n",
    "    def __init__(self, buffer_size, batch_size):\n",
    "        self.buffer_size = buffer_size\n",
    "        self.memory = deque(maxlen=buffer_size)\n",
    "        self.batch_size = batch_size\n",
    "        \n",
    "    \n",
    "    def add(self, state, action, reward, next_state, done):\n",
    "        state      = np.expand_dims(state, 0)\n",
    "        next_state = np.expand_dims(next_state, 0)\n",
    "            \n",
    "        self.memory.append((state, action, reward, next_state, done))\n",
    "    \n",
    "    def sample(self, batch_size):\n",
    "        state, action, reward, next_state, done = zip(*random.sample(self.memory, batch_size))\n",
    "        return np.concatenate(state), action, reward, np.concatenate(next_state), done\n",
    "    \n",
    "    def __len__(self):\n",
    "        return len(self.memory)"
   ]
  },
  {
   "cell_type": "markdown",
   "metadata": {
    "colab_type": "text",
    "id": "0IdCQpim0IRG"
   },
   "source": [
    "---\n",
    "### Part 5: Agent"
   ]
  },
  {
   "cell_type": "code",
   "execution_count": 18,
   "metadata": {
    "colab": {},
    "colab_type": "code",
    "id": "jml3m9Si0OX7"
   },
   "outputs": [],
   "source": [
    "class Agent:\n",
    "  \n",
    "    def __init__(self, input_shape, num_action):\n",
    "        \"\"\"Initialize an Agent object.\n",
    "          \n",
    "          Params\n",
    "          ======\n",
    "              input_shape: input frame shape\n",
    "              num_action: dimension of each action\n",
    "          \"\"\"\n",
    "        self.input_shape = input_shape\n",
    "        self.num_action = num_action\n",
    "\n",
    "        self.memory = Memory(BUFFER_SIZE, BATCH_SIZE)\n",
    "\n",
    "    \n",
    "    def step(self, batch_size, gamma, losses):\n",
    "        \"\"\"Change current frame to next one and get loss.\"\"\"\n",
    "\n",
    "        # Learn DQN and return loss\n",
    "        if len(self.memory) >= REPLAY_INITIAL:\n",
    "            loss = self.dqn_loss(BATCH_SIZE, GAMMA)\n",
    "            losses.append(loss.data)     \n",
    "        \n",
    "\n",
    "    def dqn_loss(self, batch_size, gamma):\n",
    "        \"\"\"Calculate loss using DQN\"\"\"\n",
    "        state, action, reward, next_state, done = self.memory.sample(batch_size)\n",
    "\n",
    "        state      = Variable(torch.FloatTensor(np.float32(state)))\n",
    "        next_state = Variable(torch.FloatTensor(np.float32(next_state)))\n",
    "        action     = Variable(torch.LongTensor(action))\n",
    "        reward     = Variable(torch.FloatTensor(reward))\n",
    "        done       = Variable(torch.FloatTensor(done))\n",
    "\n",
    "        # DQN\n",
    "        q_values      = qnetwork_local(state)\n",
    "        next_q_values = qnetwork_target(next_state)\n",
    "\n",
    "        q_value          = q_values.gather(1, action.unsqueeze(1)).squeeze(1)\n",
    "        next_q_value     = next_q_values.max(1)[0]\n",
    "        expected_q_value = reward + gamma * next_q_value * (1 - done)\n",
    "        \n",
    "        loss = (q_value - Variable(expected_q_value.data)).pow(2).mean()\n",
    "\n",
    "        optimizer.zero_grad()\n",
    "        loss.backward()\n",
    "        optimizer.step()\n",
    "        \n",
    "        writer.add_scalar('Train/Loss', loss, frame_idx)    # --> Tensor board\n",
    "        \n",
    "        return loss\n",
    "    \n",
    "    def act(self, state, eps):\n",
    "        if random.random() > eps:\n",
    "            state   = Variable(torch.FloatTensor(np.float32(state)).unsqueeze(0), volatile=True)\n",
    "            q_value = qnetwork_local.forward(state)   \n",
    "            action  = q_value.max(1)[1].data[0]\n",
    "        else:\n",
    "            action = random.randrange(self.num_action)\n",
    "\n",
    "        return action\n",
    "        \n",
    "\n",
    "    def update_target(self):\n",
    "        \"\"\"Update target network every UPDATE_TARGET steps\"\"\"\n",
    "        qnetwork_target.load_state_dict(qnetwork_local.state_dict())"
   ]
  },
  {
   "cell_type": "markdown",
   "metadata": {
    "colab_type": "text",
    "id": "ZKCwQTK8Sc2f"
   },
   "source": [
    "---\n",
    "### Part 6: Plot & Timer\n"
   ]
  },
  {
   "cell_type": "code",
   "execution_count": 19,
   "metadata": {
    "colab": {},
    "colab_type": "code",
    "id": "PgM1QlxbSc2q"
   },
   "outputs": [],
   "source": [
    "def plot(frame_idx, rewards, losses, episode_time):\n",
    "    clear_output(True)\n",
    "    plt.figure(figsize=(20,5))\n",
    "    plt.subplot(131)\n",
    "    plt.title('Frame %s. Reward: %s' % (frame_idx, np.mean(rewards[-100:])))\n",
    "    plt.plot(rewards)\n",
    "    plt.subplot(132)\n",
    "    plt.title('Loss')\n",
    "    plt.plot(losses)\n",
    "    plt.subplot(133)\n",
    "    plt.title('Episode time')\n",
    "    plt.plot(episode_time)\n",
    "    plt.show()"
   ]
  },
  {
   "cell_type": "code",
   "execution_count": 20,
   "metadata": {},
   "outputs": [],
   "source": [
    "def time_stamp():\n",
    "    time = datetime.datetime.now()\n",
    "    time = time.strftime(\"%H:%M:%S\")\n",
    "    return time"
   ]
  },
  {
   "cell_type": "markdown",
   "metadata": {
    "colab_type": "text",
    "id": "u7L4ELJmx8Dt"
   },
   "source": [
    "---\n",
    "### Part 7: Training"
   ]
  },
  {
   "cell_type": "code",
   "execution_count": 21,
   "metadata": {
    "colab": {},
    "colab_type": "code",
    "id": "IMudlXLct8N3"
   },
   "outputs": [
    {
     "data": {
      "text/plain": [
       "<All keys matched successfully>"
      ]
     },
     "execution_count": 21,
     "metadata": {},
     "output_type": "execute_result"
    }
   ],
   "source": [
    "agent = Agent(input_shape=input_shape, num_action=num_action)\n",
    "qnetwork_target.load_state_dict(qnetwork_local.state_dict())"
   ]
  },
  {
   "cell_type": "code",
   "execution_count": 22,
   "metadata": {
    "colab": {
     "base_uri": "https://localhost:8080/",
     "height": 336
    },
    "colab_type": "code",
    "id": "XhJYbWq8Sc3M",
    "outputId": "83e5e1a0-9d7d-4a3c-d048-582ce5991e8f"
   },
   "outputs": [
    {
     "data": {
      "image/png": "[encoded data removed]",
      "text/plain": [
       "<Figure size 1440x360 with 3 Axes>"
      ]
     },
     "metadata": {
      "needs_background": "light"
     },
     "output_type": "display_data"
    },
    {
     "name": "stdout",
     "output_type": "stream",
     "text": [
      "Start time is:  05:29:08\n",
      "Current time is:  10:38:16\n",
      "Training completed at:  10:38:27\n"
     ]
    }
   ],
   "source": [
    "losses = []\n",
    "all_rewards = []\n",
    "episode_reward = 0\n",
    "episode_time = []\n",
    "episode_time_counter = 0\n",
    "\n",
    "state = env.reset()\n",
    "start_time = time_stamp()\n",
    "print(\"Start time is: \", start_time)\n",
    "for frame_idx in range(1, NUM_FRAME + 1):\n",
    "    # Epsilon\n",
    "    eps = EPS_BY_FRAME(frame_idx)\n",
    "    # Act\n",
    "    action = agent.act(state, eps)\n",
    "    # Get next experience\n",
    "    next_state, reward, done, _ = env.step(action)\n",
    "    # Put experience into memory\n",
    "    agent.memory.add(state, action, reward, next_state, done)\n",
    "    # Update state and reward\n",
    "    state = next_state\n",
    "    episode_reward += reward\n",
    "    # Calculate loss\n",
    "    agent.step(BATCH_SIZE, GAMMA, losses)\n",
    "    # Counter time for each episode\n",
    "    episode_time_counter += 1\n",
    "\n",
    "    if done:\n",
    "        state = env.reset()\n",
    "        all_rewards.append(episode_reward)\n",
    "        writer.add_scalar('Train/Reward', episode_reward, frame_idx)    # --> Tensor board\n",
    "        episode_reward = 0\n",
    "        \n",
    "        episode_time.append(episode_time_counter)\n",
    "        writer.add_scalar('Train/Episode_time', episode_time_counter, frame_idx)    # --> Tensor board\n",
    "        episode_time_counter = 0\n",
    "        \n",
    "    if frame_idx % 10000 == 0:\n",
    "        save_load.save_models(qnetwork_local, qnetwork_target, optimizer, losses)\n",
    "        current_time = time_stamp()\n",
    "        plot(frame_idx, all_rewards, losses, episode_time)\n",
    "        print('Start time is: ', start_time)\n",
    "        print('Current time is: ', current_time)\n",
    "        \n",
    "    if frame_idx % UPDATE_TARGET == 0:\n",
    "        agent.update_target()\n",
    "        \n",
    "    if frame_idx == NUM_FRAME:\n",
    "        end_time = time_stamp()\n",
    "        print(\"Training completed at: \", end_time)"
   ]
  },
  {
   "cell_type": "code",
   "execution_count": 23,
   "metadata": {},
   "outputs": [],
   "source": [
    "writer.close()"
   ]
  },
  {
   "cell_type": "markdown",
   "metadata": {},
   "source": [
    "---\n",
    "### Part 8: Evaluation"
   ]
  },
  {
   "cell_type": "code",
   "execution_count": null,
   "metadata": {},
   "outputs": [],
   "source": [
    "env_id = \"PongDeterministic-v4\"\n",
    "env    = make_atari(env_id)\n",
    "env    = WarpFrame(env)\n",
    "env    = wrap_pytorch(env)\n",
    "\n",
    "models = save_load.load_models(qnetwork_local, qnetwork_target, optimizer)\n",
    "if models != None:\n",
    "    qnetwork_local = models[0]"
   ]
  },
  {
   "cell_type": "code",
   "execution_count": null,
   "metadata": {},
   "outputs": [],
   "source": [
    "episode_reward = 0\n",
    "all_rewards = []\n",
    "\n",
    "for i in range(100):\n",
    "    state = env.reset()\n",
    "\n",
    "    for j in range(30000):\n",
    "        action = agent.act(state, 0)\n",
    "        state, reward, done, _ = env.step(action)\n",
    "        episode_reward += reward\n",
    "        if done:\n",
    "            all_rewards.append(episode_reward)\n",
    "            episode_reward = 0\n",
    "            break \n",
    "    if i % 5 == 0:\n",
    "        clear_output(wait=True)\n",
    "        epi_avg = sum(all_rewards) / len(all_rewards)\n",
    "        print(\"Average: \", epi_avg)\n",
    "        plt.plot(all_rewards)\n",
    "        plt.ylabel('Rewards')\n",
    "        plt.show()\n",
    "    env.close()"
   ]
  }
 ],
 "metadata": {
  "accelerator": "GPU",
  "colab": {
   "collapsed_sections": [],
   "name": "dueling_pong_my2.ipynb",
   "provenance": []
  },
  "kernelspec": {
   "display_name": "Python 3",
   "language": "python",
   "name": "python3"
  },
  "language_info": {
   "codemirror_mode": {
    "name": "ipython",
    "version": 3
   },
   "file_extension": ".py",
   "mimetype": "text/x-python",
   "name": "python",
   "nbconvert_exporter": "python",
   "pygments_lexer": "ipython3",
   "version": "3.6.5"
  }
 },
 "nbformat": 4,
 "nbformat_minor": 4
}
