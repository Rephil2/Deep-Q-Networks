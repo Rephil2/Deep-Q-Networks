{
 "cells": [
  {
   "cell_type": "markdown",
   "metadata": {
    "colab_type": "text",
    "id": "_Toz_zbLqRDX"
   },
   "source": [
    "### Part 1: Import recource & Hyperparameter"
   ]
  },
  {
   "cell_type": "code",
   "execution_count": 1,
   "metadata": {
    "colab": {},
    "colab_type": "code",
    "id": "axQA3l0FqXyi"
   },
   "outputs": [],
   "source": [
    "# Comman library\n",
    "import math\n",
    "import random\n",
    "import numpy as np\n",
    "import gym\n",
    "from gym import spaces\n",
    "import cv2\n",
    "from collections import deque"
   ]
  },
  {
   "cell_type": "code",
   "execution_count": 2,
   "metadata": {
    "colab": {},
    "colab_type": "code",
    "id": "yhWWv9_LSc1z"
   },
   "outputs": [],
   "source": [
    "# Pytorch\n",
    "import torch\n",
    "import torch.nn as nn\n",
    "import torch.optim as optim\n",
    "import torch.autograd as autograd \n",
    "import torch.nn.functional as F\n",
    "import torchvision"
   ]
  },
  {
   "cell_type": "code",
   "execution_count": 3,
   "metadata": {
    "colab": {},
    "colab_type": "code",
    "id": "eNqwYLT2Sc18"
   },
   "outputs": [],
   "source": [
    "# Tool for image preprocessing\n",
    "from IPython.display import clear_output\n",
    "import matplotlib.pyplot as plt\n",
    "%matplotlib inline"
   ]
  },
  {
   "cell_type": "code",
   "execution_count": 4,
   "metadata": {
    "colab": {
     "base_uri": "https://localhost:8080/",
     "height": 34
    },
    "colab_type": "code",
    "id": "NSEwJNW_q1Kw",
    "outputId": "34b5b0f0-6707-479a-9ecd-8d95dd7a1f2a"
   },
   "outputs": [
    {
     "name": "stdout",
     "output_type": "stream",
     "text": [
      "cpu\n"
     ]
    }
   ],
   "source": [
    "# Device and variable for parameter transferring\n",
    "device = torch.device('cuda' if torch.cuda.is_available() else 'cpu')\n",
    "print(device)\n",
    "Variable = lambda *args, **kwargs: autograd.Variable(*args, **kwargs).cuda() if torch.cuda.is_available() else autograd.Variable(*args, **kwargs)"
   ]
  },
  {
   "cell_type": "code",
   "execution_count": 5,
   "metadata": {
    "colab": {},
    "colab_type": "code",
    "id": "EWYckNBgrInU"
   },
   "outputs": [],
   "source": [
    "# Hyper-parameter\n",
    "BATCH_SIZE = 32         # Minibatch size \n",
    "GAMMA = 0.99            # Discount factor \n",
    "LR = 1e-5               # Learning rate\n",
    "UPDATE_TARGET = 1000    # How often to update the target-network\n",
    "NUM_FRAME = 300000 "
   ]
  },
  {
   "cell_type": "code",
   "execution_count": 6,
   "metadata": {
    "colab": {},
    "colab_type": "code",
    "id": "7EKnH0FErO50"
   },
   "outputs": [],
   "source": [
    "# Memory-parameter\n",
    "BUFFER_SIZE = int(1e5)  # Replay buffer size \n",
    "REPLAY_INITIAL = 100    # Random sampling period"
   ]
  },
  {
   "cell_type": "code",
   "execution_count": 7,
   "metadata": {
    "colab": {},
    "colab_type": "code",
    "id": "ThmMfqYrrgUz"
   },
   "outputs": [],
   "source": [
    "# Epsilon\n",
    "EPS_START = 1.0\n",
    "EPS_END = 0.01\n",
    "EPS_DECAY = 500\n",
    "\n",
    "EPS_BY_FRAME = lambda frame_idx : EPS_END + (EPS_START - EPS_END) * math.exp(-1. * frame_idx / EPS_DECAY)"
   ]
  },
  {
   "cell_type": "code",
   "execution_count": 8,
   "metadata": {
    "colab": {
     "base_uri": "https://localhost:8080/",
     "height": 282
    },
    "colab_type": "code",
    "id": "8egxyD7eseAi",
    "outputId": "e74db665-5779-4267-83fe-38b86c581bf4"
   },
   "outputs": [
    {
     "data": {
      "text/plain": [
       "[<matplotlib.lines.Line2D at 0x134f0cc88>]"
      ]
     },
     "execution_count": 8,
     "metadata": {},
     "output_type": "execute_result"
    },
    {
     "data": {
      "image/png": "[encoded data removed]",
      "text/plain": [
       "<Figure size 432x288 with 1 Axes>"
      ]
     },
     "metadata": {},
     "output_type": "display_data"
    }
   ],
   "source": [
    "# Plot changing epsilon\n",
    "plt.plot([EPS_BY_FRAME(i) for i in range(10000)])"
   ]
  },
  {
   "cell_type": "code",
   "execution_count": 9,
   "metadata": {},
   "outputs": [
    {
     "name": "stderr",
     "output_type": "stream",
     "text": [
      "/anaconda3/lib/python3.6/site-packages/tensorflow/python/framework/dtypes.py:526: FutureWarning: Passing (type, 1) or '1type' as a synonym of type is deprecated; in a future version of numpy, it will be understood as (type, (1,)) / '(1,)type'.\n",
      "  _np_qint8 = np.dtype([(\"qint8\", np.int8, 1)])\n",
      "/anaconda3/lib/python3.6/site-packages/tensorflow/python/framework/dtypes.py:527: FutureWarning: Passing (type, 1) or '1type' as a synonym of type is deprecated; in a future version of numpy, it will be understood as (type, (1,)) / '(1,)type'.\n",
      "  _np_quint8 = np.dtype([(\"quint8\", np.uint8, 1)])\n",
      "/anaconda3/lib/python3.6/site-packages/tensorflow/python/framework/dtypes.py:528: FutureWarning: Passing (type, 1) or '1type' as a synonym of type is deprecated; in a future version of numpy, it will be understood as (type, (1,)) / '(1,)type'.\n",
      "  _np_qint16 = np.dtype([(\"qint16\", np.int16, 1)])\n",
      "/anaconda3/lib/python3.6/site-packages/tensorflow/python/framework/dtypes.py:529: FutureWarning: Passing (type, 1) or '1type' as a synonym of type is deprecated; in a future version of numpy, it will be understood as (type, (1,)) / '(1,)type'.\n",
      "  _np_quint16 = np.dtype([(\"quint16\", np.uint16, 1)])\n",
      "/anaconda3/lib/python3.6/site-packages/tensorflow/python/framework/dtypes.py:530: FutureWarning: Passing (type, 1) or '1type' as a synonym of type is deprecated; in a future version of numpy, it will be understood as (type, (1,)) / '(1,)type'.\n",
      "  _np_qint32 = np.dtype([(\"qint32\", np.int32, 1)])\n",
      "/anaconda3/lib/python3.6/site-packages/tensorflow/python/framework/dtypes.py:535: FutureWarning: Passing (type, 1) or '1type' as a synonym of type is deprecated; in a future version of numpy, it will be understood as (type, (1,)) / '(1,)type'.\n",
      "  np_resource = np.dtype([(\"resource\", np.ubyte, 1)])\n",
      "/anaconda3/lib/python3.6/site-packages/h5py/__init__.py:36: FutureWarning: Conversion of the second argument of issubdtype from `float` to `np.floating` is deprecated. In future, it will be treated as `np.float64 == np.dtype(float).type`.\n",
      "  from ._conv import register_converters as _register_converters\n"
     ]
    }
   ],
   "source": [
    "# Tensor board\n",
    "from torch.utils.tensorboard import SummaryWriter\n",
    "writer = SummaryWriter('runs/dqn_lunarlander')"
   ]
  },
  {
   "cell_type": "markdown",
   "metadata": {
    "colab_type": "text",
    "id": "vSLvJvv5sxUS"
   },
   "source": [
    "---\n",
    "### Part 2: Image preprocessing & DQN"
   ]
  },
  {
   "cell_type": "code",
   "execution_count": 10,
   "metadata": {
    "colab": {},
    "colab_type": "code",
    "id": "aTfL00-UZF6o"
   },
   "outputs": [],
   "source": [
    "env_id = \"LunarLander-v2\"\n",
    "env    = gym.make(env_id)"
   ]
  },
  {
   "cell_type": "code",
   "execution_count": 11,
   "metadata": {
    "colab": {
     "base_uri": "https://localhost:8080/",
     "height": 51
    },
    "colab_type": "code",
    "id": "PZSNzN5iu0Uj",
    "outputId": "453c3266-7a29-4742-ed61-c60cf2836cce"
   },
   "outputs": [
    {
     "name": "stdout",
     "output_type": "stream",
     "text": [
      "8\n",
      "4\n"
     ]
    }
   ],
   "source": [
    "# Environment-parameter\n",
    "num_input = env.observation_space.shape[0]\n",
    "print(num_input)\n",
    "num_action  = env.action_space.n\n",
    "print(num_action)"
   ]
  },
  {
   "cell_type": "code",
   "execution_count": 12,
   "metadata": {},
   "outputs": [],
   "source": [
    "class DQN(nn.Module):\n",
    "    def __init__(self, num_input, num_action):\n",
    "        super(DQN, self).__init__()\n",
    "\n",
    "        self.num_input = num_input\n",
    "        self.num_action = num_action\n",
    "\n",
    "        self.l1 = nn.Linear(num_input, 128)\n",
    "        self.l2 = nn.Linear(128, 128)\n",
    "        self.l3 = nn.Linear(128, num_action)\n",
    "    \n",
    "    def forward(self, x):\n",
    "        x = F.relu(self.l1(x))\n",
    "        x = F.relu(self.l2(x))\n",
    "        x = self.l3(x)\n",
    "        \n",
    "        return x"
   ]
  },
  {
   "cell_type": "code",
   "execution_count": 13,
   "metadata": {},
   "outputs": [],
   "source": [
    "# Generate Q-network\n",
    "if torch.cuda.is_available():\n",
    "    model = DQN(num_input, num_action).cuda()\n",
    "else:\n",
    "    model = DQN(num_input, num_action)\n",
    "    \n",
    "optimizer = optim.Adam(model.parameters())"
   ]
  },
  {
   "cell_type": "markdown",
   "metadata": {
    "colab_type": "text",
    "id": "n0iB9-c0Sc2D"
   },
   "source": [
    "---\n",
    "### Part 3: Replay memory"
   ]
  },
  {
   "cell_type": "code",
   "execution_count": 14,
   "metadata": {
    "colab": {},
    "colab_type": "code",
    "id": "LZAC2Q2ASc2E"
   },
   "outputs": [],
   "source": [
    "class Memory(object):\n",
    "    def __init__(self, buffer_size, batch_size):\n",
    "        self.buffer_size = buffer_size\n",
    "        self.memory = deque(maxlen=buffer_size)\n",
    "        self.batch_size = batch_size\n",
    "        \n",
    "    \n",
    "    def add(self, state, action, reward, next_state, done):\n",
    "        state      = np.expand_dims(state, 0)\n",
    "        next_state = np.expand_dims(next_state, 0)\n",
    "            \n",
    "        self.memory.append((state, action, reward, next_state, done))\n",
    "    \n",
    "    def sample(self, batch_size):\n",
    "        state, action, reward, next_state, done = zip(*random.sample(self.memory, batch_size))\n",
    "        return np.concatenate(state), action, reward, np.concatenate(next_state), done\n",
    "    \n",
    "    def __len__(self):\n",
    "        return len(self.memory)"
   ]
  },
  {
   "cell_type": "markdown",
   "metadata": {
    "colab_type": "text",
    "id": "0IdCQpim0IRG"
   },
   "source": [
    "---\n",
    "### Part 4: Agent"
   ]
  },
  {
   "cell_type": "code",
   "execution_count": 15,
   "metadata": {
    "colab": {},
    "colab_type": "code",
    "id": "jml3m9Si0OX7"
   },
   "outputs": [],
   "source": [
    "class Agent:\n",
    "  \n",
    "    def __init__(self, num_input, num_action):\n",
    "        \"\"\"Initialize an Agent object.\n",
    "          \n",
    "          Params\n",
    "          ======\n",
    "              num_input: dimension of each state\n",
    "              num_action: dimension of each action\n",
    "          \"\"\"\n",
    "        self.num_input = num_input\n",
    "        self.num_action = num_action\n",
    "\n",
    "        self.memory = Memory(BUFFER_SIZE, BATCH_SIZE)\n",
    " \n",
    "    def step(self, batch_size, gamma):\n",
    "        \"\"\"Change current frame to next one and get loss.\"\"\"\n",
    "        # Learn DQN and return loss\n",
    "        if len(self.memory) >= REPLAY_INITIAL:\n",
    "            loss = self.dqn_loss(BATCH_SIZE, GAMMA)\n",
    "            losses.append(loss.item())    \n",
    "        else:\n",
    "            pass\n",
    "\n",
    "    def dqn_loss(self, batch_size, gamma):\n",
    "        \"\"\"Calculate loss using DQN\"\"\"\n",
    "        state, action, reward, next_state, done = self.memory.sample(batch_size)\n",
    "\n",
    "        state      = Variable(torch.FloatTensor(np.float32(state)))\n",
    "        next_state = Variable(torch.FloatTensor(np.float32(next_state)))\n",
    "        action     = Variable(torch.LongTensor(action))\n",
    "        reward     = Variable(torch.FloatTensor(reward))\n",
    "        done       = Variable(torch.FloatTensor(done))\n",
    "\n",
    "        # DQN\n",
    "        q_values      = model(state)\n",
    "        next_q_values = model(next_state)\n",
    "    \n",
    "        q_value          = q_values.gather(1, action.unsqueeze(1)).squeeze(1)\n",
    "        next_q_value     = next_q_values.max(1)[0]\n",
    "        expected_q_value = reward + gamma * next_q_value * (1 - done)\n",
    "        \n",
    "        loss = (q_value - Variable(expected_q_value.data)).pow(2).mean()\n",
    "\n",
    "        optimizer.zero_grad()\n",
    "        loss.backward()\n",
    "        optimizer.step()\n",
    "\n",
    "        writer.add_scalar('Train/Loss', loss, frame_idx)    # --> Tensor board\n",
    "        \n",
    "        return loss\n",
    "    \n",
    "    def act(self, state, eps):\n",
    "        if random.random() > eps:\n",
    "            state   = Variable(torch.FloatTensor(np.float32(state)).unsqueeze(0), volatile=True)\n",
    "            q_value = model.forward(state)   \n",
    "            action = q_value.max(1)[1].item() \n",
    "\n",
    "        else:\n",
    "            action = random.randrange(env.action_space.n)\n",
    "\n",
    "        return action"
   ]
  },
  {
   "cell_type": "markdown",
   "metadata": {
    "colab_type": "text",
    "id": "ZKCwQTK8Sc2f"
   },
   "source": [
    "---\n",
    "### Part 5: Plot\n"
   ]
  },
  {
   "cell_type": "code",
   "execution_count": 16,
   "metadata": {
    "colab": {},
    "colab_type": "code",
    "id": "PgM1QlxbSc2q"
   },
   "outputs": [],
   "source": [
    "def plot(frame_idx, rewards, losses):\n",
    "    clear_output(True)\n",
    "    plt.figure(figsize=(20,5))\n",
    "    plt.subplot(131)\n",
    "    plt.title('Frame %s. Reward: %s' % (frame_idx, np.mean(rewards[-10:])))\n",
    "    plt.plot(rewards)\n",
    "    plt.subplot(132)\n",
    "    plt.title('Loss')\n",
    "    plt.plot(losses)\n",
    "    plt.show()"
   ]
  },
  {
   "cell_type": "markdown",
   "metadata": {
    "colab_type": "text",
    "id": "u7L4ELJmx8Dt"
   },
   "source": [
    "---\n",
    "### Part 6: Training"
   ]
  },
  {
   "cell_type": "code",
   "execution_count": 17,
   "metadata": {
    "colab": {},
    "colab_type": "code",
    "id": "IMudlXLct8N3"
   },
   "outputs": [],
   "source": [
    "agent = Agent(num_input=num_input, num_action=num_action)"
   ]
  },
  {
   "cell_type": "code",
   "execution_count": 18,
   "metadata": {
    "colab": {
     "base_uri": "https://localhost:8080/",
     "height": 336
    },
    "colab_type": "code",
    "id": "XhJYbWq8Sc3M",
    "outputId": "0b08d4ca-4f53-4b77-96d7-cd52dd82848b"
   },
   "outputs": [
    {
     "data": {
      "image/png": "[encoded data removed]",
      "text/plain": [
       "<Figure size 1440x360 with 2 Axes>"
      ]
     },
     "metadata": {},
     "output_type": "display_data"
    }
   ],
   "source": [
    "losses = []\n",
    "all_rewards = []\n",
    "episode_reward = 0\n",
    "\n",
    "\n",
    "state = env.reset()\n",
    "for frame_idx in range(1, NUM_FRAME + 1):\n",
    "    # Epsilon\n",
    "    eps = EPS_BY_FRAME(frame_idx)\n",
    "    # Act\n",
    "    action = agent.act(state, eps)\n",
    "    # Get next experience\n",
    "    next_state, reward, done, _ = env.step(action)\n",
    "    # Put experience into memory\n",
    "    agent.memory.add(state, action, reward, next_state, done)\n",
    "    # Update state and reward\n",
    "    state = next_state\n",
    "    episode_reward += reward\n",
    "    # Calculate loss\n",
    "    loss = agent.step(BATCH_SIZE, GAMMA)\n",
    "\n",
    "    if done:\n",
    "        state = env.reset()\n",
    "        all_rewards.append(episode_reward)\n",
    "        writer.add_scalar('Train/Reward', episode_reward, frame_idx)    # --> Tensor board\n",
    "        episode_reward = 0\n",
    "        \n",
    "    if frame_idx % 1000 == 0:\n",
    "        plot(frame_idx, all_rewards, losses)\n",
    "        "
   ]
  },
  {
   "cell_type": "code",
   "execution_count": 19,
   "metadata": {},
   "outputs": [],
   "source": [
    "writer.close()"
   ]
  }
 ],
 "metadata": {
  "accelerator": "GPU",
  "colab": {
   "collapsed_sections": [],
   "name": "dueling_ddqn_cnn_cartpole.ipynb",
   "provenance": []
  },
  "kernelspec": {
   "display_name": "Python 3",
   "language": "python",
   "name": "python3"
  },
  "language_info": {
   "codemirror_mode": {
    "name": "ipython",
    "version": 3
   },
   "file_extension": ".py",
   "mimetype": "text/x-python",
   "name": "python",
   "nbconvert_exporter": "python",
   "pygments_lexer": "ipython3",
   "version": "3.6.5"
  }
 },
 "nbformat": 4,
 "nbformat_minor": 2
}
